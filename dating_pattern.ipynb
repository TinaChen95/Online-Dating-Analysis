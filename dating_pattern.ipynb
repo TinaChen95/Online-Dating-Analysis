{
 "cells": [
  {
   "cell_type": "code",
   "execution_count": 1,
   "metadata": {
    "collapsed": true
   },
   "outputs": [],
   "source": [
    "import pickle\n",
    "from collections import Counter\n",
    "user = pickle.load(open('man.pkl', 'rb'))\n",
    "user.update(pickle.load(open('woman.pkl', 'rb')))\n",
    "kongjian = pickle.load(open('kongjian.pkl','rb'))\n",
    "lovers = dict()\n",
    "pairs = []\n",
    "for value in kongjian.values():\n",
    "    if len(value) == 0:\n",
    "        continue\n",
    "    try:\n",
    "        user1 = value['user1']['uid']\n",
    "        user2 = value['user2']['uid']\n",
    "        if user1 == user2:\n",
    "            continue\n",
    "        type1 = user[user1]['恋爱类型']\n",
    "        type2 = user[user2]['恋爱类型']\n",
    "        if type1 not in pairs:\n",
    "            lovers[type1] = Counter()\n",
    "        lovers[type1][type2] += 1\n",
    "        pairs.append((min(type1, type2), max(type1,type2)))\n",
    "    except:\n",
    "        continue"
   ]
  },
  {
   "cell_type": "code",
   "execution_count": 3,
   "metadata": {},
   "outputs": [
    {
     "name": "stdout",
     "output_type": "stream",
     "text": [
      "艺术家型 以后告诉你\n",
      "表演者型 公务员型\n",
      "发明家型 记者型\n",
      "公务员型 哲学家型\n",
      "照顾者型 记者型\n",
      "作家型 艺术家型\n",
      "挑战者型 将军型\n",
      "以后告诉你 表演者型\n",
      "记者型 发明家型\n",
      "哲学家型 照顾者型\n",
      "将军型 记者型\n",
      "主人型 将军型\n",
      "教师型 哲学家型\n",
      "学者型 领袖型\n",
      "冒险家型 艺术家型\n",
      "专家型 发明家型\n",
      "领袖型 冒险家型\n"
     ]
    }
   ],
   "source": [
    "for type1, value in lovers.items():\n",
    "    items = sorted(value.items(),key=lambda x: x[-1])[-1]\n",
    "    print(type1, items[0])"
   ]
  },
  {
   "cell_type": "code",
   "execution_count": 8,
   "metadata": {},
   "outputs": [
    {
     "data": {
      "text/plain": [
       "[<matplotlib.lines.Line2D at 0x1df2b1f8240>]"
      ]
     },
     "execution_count": 8,
     "metadata": {},
     "output_type": "execute_result"
    },
    {
     "data": {
      "image/png": "[encoded data removed]",
      "text/plain": [
       "<matplotlib.figure.Figure at 0x1df2b116710>"
      ]
     },
     "metadata": {},
     "output_type": "display_data"
    }
   ],
   "source": [
    "counter = Counter(pairs)\n",
    "types = sorted(counter.items(), key=lambda x: x[1], reverse=True)\n",
    "cumulate = [0]\n",
    "for t,c in types:\n",
    "    cumulate.append(c+cumulate[-1])\n",
    "cumulate = [c/cumulate[-1] for c in cumulate]\n",
    "\n",
    "import matplotlib.pyplot as plt\n",
    "%matplotlib inline\n",
    "plt.plot(cumulate)"
   ]
  },
  {
   "cell_type": "code",
   "execution_count": 29,
   "metadata": {},
   "outputs": [
    {
     "data": {
      "text/plain": [
       "[('发明家型', 24),\n",
       " ('以后告诉你', 24),\n",
       " ('领袖型', 27),\n",
       " ('学者型', 30),\n",
       " ('挑战者型', 34),\n",
       " ('专家型', 38),\n",
       " ('冒险家型', 43),\n",
       " ('将军型', 69),\n",
       " ('教师型', 84),\n",
       " ('主人型', 96),\n",
       " ('表演者型', 96),\n",
       " ('公务员型', 115),\n",
       " ('作家型', 124),\n",
       " ('艺术家型', 136),\n",
       " ('记者型', 145),\n",
       " ('哲学家型', 145),\n",
       " ('照顾者型', 190)]"
      ]
     },
     "execution_count": 29,
     "metadata": {},
     "output_type": "execute_result"
    }
   ],
   "source": [
    "types = [i for t in pairs for i in t]\n",
    "sorted(Counter(types).items(), key=lambda x: x[-1])"
   ]
  },
  {
   "cell_type": "code",
   "execution_count": 13,
   "metadata": {},
   "outputs": [
    {
     "data": {
      "text/plain": [
       "dict_keys(['userID', 'nickName', 'genderChn', 'isCreditedById5', 'isCreditedBySfz', 'isCreditedByMobile', 'isCreditedBySesame', 'isCreditedByEducation', 'creditedNum', 'name', '恋爱类型', 'tags', 'age', 'height', 'education', 'area', 'picture', 'status', '户口', '民族', '家乡', '属相', '星座', '血型', '体型', '体重', '职业', '月薪', '购房', '购车', '掌握语言', '毕业学校', '所学专业', '宗教信仰', '生活作息', '有无子女', '相貌自评', '是否吸烟', '是否喝酒', '公司性质', '公司行业', '工作状况', '家中排行', '父母情况', '父亲工作', '母亲工作', '父母经济', '父母医保', '想何时结婚', '是否想要小孩', '偏爱约会方式', '希望对方看重', '期待婚礼形式', '厨艺状况', '家务分工', '年龄', '身高', '学历', '月收入', '所在地区', '婚姻状况', '购房情况', '择偶要求_有无子女', 'intro'])"
      ]
     },
     "execution_count": 13,
     "metadata": {},
     "output_type": "execute_result"
    }
   ],
   "source": [
    "user['50579218'].keys()"
   ]
  },
  {
   "cell_type": "code",
   "execution_count": 14,
   "metadata": {
    "collapsed": true
   },
   "outputs": [],
   "source": [
    "lovers = dict()\n",
    "pairs = []\n",
    "for value in kongjian.values():\n",
    "    if len(value) == 0:\n",
    "        continue\n",
    "    try:\n",
    "        user1 = value['user1']['uid']\n",
    "        user2 = value['user2']['uid']\n",
    "        if user1 == user2:\n",
    "            continue\n",
    "        type1 = user[user1]['星座']\n",
    "        type2 = user[user2]['星座']\n",
    "        if type1 not in pairs:\n",
    "            lovers[type1] = Counter()\n",
    "        lovers[type1][type2] += 1\n",
    "        pairs.append((min(type1, type2), max(type1,type2)))\n",
    "    except:\n",
    "        continue"
   ]
  },
  {
   "cell_type": "code",
   "execution_count": 15,
   "metadata": {},
   "outputs": [
    {
     "data": {
      "text/plain": [
       "[<matplotlib.lines.Line2D at 0x1df2b2bbf98>]"
      ]
     },
     "execution_count": 15,
     "metadata": {},
     "output_type": "execute_result"
    },
    {
     "data": {
      "image/png": "[encoded data removed]",
      "text/plain": [
       "<matplotlib.figure.Figure at 0x1df2b241198>"
      ]
     },
     "metadata": {},
     "output_type": "display_data"
    }
   ],
   "source": [
    "counter = Counter(pairs)\n",
    "types = sorted(counter.items(), key=lambda x: x[1], reverse=True)\n",
    "cumulate = [0]\n",
    "for t,c in types:\n",
    "    cumulate.append(c+cumulate[-1])\n",
    "cumulate = [c/cumulate[-1] for c in cumulate]\n",
    "\n",
    "import matplotlib.pyplot as plt\n",
    "%matplotlib inline\n",
    "plt.plot(cumulate)"
   ]
  },
  {
   "cell_type": "code",
   "execution_count": 17,
   "metadata": {},
   "outputs": [
    {
     "data": {
      "text/plain": [
       "[0.0,\n",
       " 0.023943661971830985,\n",
       " 0.04788732394366197,\n",
       " 0.07183098591549296,\n",
       " 0.09577464788732394,\n",
       " 0.11971830985915492,\n",
       " 0.14225352112676057,\n",
       " 0.1647887323943662,\n",
       " 0.18591549295774648,\n",
       " 0.20704225352112676,\n",
       " 0.22816901408450704,\n",
       " 0.24929577464788732,\n",
       " 0.26901408450704223,\n",
       " 0.2887323943661972,\n",
       " 0.3084507042253521,\n",
       " 0.3267605633802817,\n",
       " 0.34507042253521125,\n",
       " 0.36338028169014086,\n",
       " 0.38028169014084506,\n",
       " 0.3971830985915493,\n",
       " 0.4140845070422535,\n",
       " 0.4309859154929577,\n",
       " 0.447887323943662,\n",
       " 0.4647887323943662,\n",
       " 0.48169014084507045,\n",
       " 0.4971830985915493,\n",
       " 0.5126760563380282,\n",
       " 0.528169014084507,\n",
       " 0.543661971830986,\n",
       " 0.5577464788732395,\n",
       " 0.571830985915493,\n",
       " 0.5859154929577465,\n",
       " 0.6,\n",
       " 0.6140845070422535,\n",
       " 0.6281690140845071,\n",
       " 0.6422535211267606,\n",
       " 0.6563380281690141,\n",
       " 0.6690140845070423,\n",
       " 0.6816901408450704,\n",
       " 0.6943661971830986,\n",
       " 0.7070422535211267,\n",
       " 0.719718309859155,\n",
       " 0.7323943661971831,\n",
       " 0.7450704225352113,\n",
       " 0.7577464788732394,\n",
       " 0.7704225352112676,\n",
       " 0.7816901408450704,\n",
       " 0.7929577464788733,\n",
       " 0.8042253521126761,\n",
       " 0.8154929577464789,\n",
       " 0.8267605633802817,\n",
       " 0.8380281690140845,\n",
       " 0.8492957746478873,\n",
       " 0.8591549295774648,\n",
       " 0.8690140845070422,\n",
       " 0.8788732394366198,\n",
       " 0.8887323943661972,\n",
       " 0.8985915492957747,\n",
       " 0.9070422535211268,\n",
       " 0.9154929577464789,\n",
       " 0.923943661971831,\n",
       " 0.9309859154929577,\n",
       " 0.9380281690140845,\n",
       " 0.9436619718309859,\n",
       " 0.9492957746478873,\n",
       " 0.9549295774647887,\n",
       " 0.9605633802816902,\n",
       " 0.9661971830985916,\n",
       " 0.9704225352112676,\n",
       " 0.9746478873239437,\n",
       " 0.9788732394366197,\n",
       " 0.9830985915492958,\n",
       " 0.9873239436619718,\n",
       " 0.9901408450704225,\n",
       " 0.9929577464788732,\n",
       " 0.995774647887324,\n",
       " 0.9971830985915493,\n",
       " 0.9985915492957746,\n",
       " 1.0]"
      ]
     },
     "execution_count": 17,
     "metadata": {},
     "output_type": "execute_result"
    }
   ],
   "source": [
    "cumulate"
   ]
  },
  {
   "cell_type": "code",
   "execution_count": null,
   "metadata": {
    "collapsed": true
   },
   "outputs": [],
   "source": []
  }
 ],
 "metadata": {
  "kernelspec": {
   "display_name": "Python 3",
   "language": "python",
   "name": "python3"
  },
  "language_info": {
   "codemirror_mode": {
    "name": "ipython",
    "version": 3
   },
   "file_extension": ".py",
   "mimetype": "text/x-python",
   "name": "python",
   "nbconvert_exporter": "python",
   "pygments_lexer": "ipython3",
   "version": "3.6.1"
  }
 },
 "nbformat": 4,
 "nbformat_minor": 2
}
