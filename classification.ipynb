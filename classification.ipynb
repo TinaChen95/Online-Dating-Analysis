{
 "cells": [
  {
   "cell_type": "markdown",
   "metadata": {
    "collapsed": true
   },
   "source": [
    "### 数据预处理"
   ]
  },
  {
   "cell_type": "code",
   "execution_count": 1,
   "metadata": {},
   "outputs": [
    {
     "data": {
      "text/html": [
       "<div>\n",
       "<style>\n",
       "    .dataframe thead tr:only-child th {\n",
       "        text-align: right;\n",
       "    }\n",
       "\n",
       "    .dataframe thead th {\n",
       "        text-align: left;\n",
       "    }\n",
       "\n",
       "    .dataframe tbody tr th {\n",
       "        vertical-align: top;\n",
       "    }\n",
       "</style>\n",
       "<table border=\"1\" class=\"dataframe\">\n",
       "  <thead>\n",
       "    <tr style=\"text-align: right;\">\n",
       "      <th></th>\n",
       "      <th>userID</th>\n",
       "      <th>年龄</th>\n",
       "      <th>所在省</th>\n",
       "      <th>creditedNum</th>\n",
       "      <th>文凭</th>\n",
       "      <th>性别</th>\n",
       "      <th>身高</th>\n",
       "      <th>学历认证</th>\n",
       "      <th>身份认证</th>\n",
       "      <th>手机认证</th>\n",
       "      <th>...</th>\n",
       "      <th>是否吸烟</th>\n",
       "      <th>是否喝酒</th>\n",
       "      <th>是否想要小孩</th>\n",
       "      <th>要求伴侣月收入</th>\n",
       "      <th>月薪</th>\n",
       "      <th>有无子女</th>\n",
       "      <th>民族</th>\n",
       "      <th>职业</th>\n",
       "      <th>要求伴侣购房情况</th>\n",
       "      <th>要求伴侣身高</th>\n",
       "    </tr>\n",
       "  </thead>\n",
       "  <tbody>\n",
       "    <tr>\n",
       "      <th>0</th>\n",
       "      <td>56013059</td>\n",
       "      <td>34</td>\n",
       "      <td>河南</td>\n",
       "      <td>1</td>\n",
       "      <td>本科</td>\n",
       "      <td>男</td>\n",
       "      <td>177</td>\n",
       "      <td>0</td>\n",
       "      <td>0</td>\n",
       "      <td>1</td>\n",
       "      <td>...</td>\n",
       "      <td>不吸烟，但不反感</td>\n",
       "      <td>不喝酒</td>\n",
       "      <td>NaN</td>\n",
       "      <td>2000以下,4000-5000,7000-10000,15000-20000,30000-...</td>\n",
       "      <td>2000-5000</td>\n",
       "      <td>没有</td>\n",
       "      <td>汉族</td>\n",
       "      <td>其它</td>\n",
       "      <td>,与父母同住,需要时购置,已购房(无贷款),住单位房,住亲朋家</td>\n",
       "      <td>163~173厘米</td>\n",
       "    </tr>\n",
       "    <tr>\n",
       "      <th>1</th>\n",
       "      <td>50027250</td>\n",
       "      <td>48</td>\n",
       "      <td>江苏</td>\n",
       "      <td>1</td>\n",
       "      <td>本科</td>\n",
       "      <td>男</td>\n",
       "      <td>171</td>\n",
       "      <td>0</td>\n",
       "      <td>0</td>\n",
       "      <td>1</td>\n",
       "      <td>...</td>\n",
       "      <td>社交时偶尔吸烟</td>\n",
       "      <td>兴致时小酌</td>\n",
       "      <td>想</td>\n",
       "      <td>2000以下,4000-5000,7000-10000,15000-20000,30000-...</td>\n",
       "      <td>10000-20000</td>\n",
       "      <td>没有</td>\n",
       "      <td>汉族</td>\n",
       "      <td>高级经营管理</td>\n",
       "      <td>,与父母同住,需要时购置,已购房(无贷款),住单位房,住亲朋家</td>\n",
       "      <td>160~170厘米</td>\n",
       "    </tr>\n",
       "    <tr>\n",
       "      <th>2</th>\n",
       "      <td>55748374</td>\n",
       "      <td>34</td>\n",
       "      <td>河南</td>\n",
       "      <td>1</td>\n",
       "      <td>本科</td>\n",
       "      <td>男</td>\n",
       "      <td>170</td>\n",
       "      <td>0</td>\n",
       "      <td>0</td>\n",
       "      <td>1</td>\n",
       "      <td>...</td>\n",
       "      <td>不吸烟，但不反感</td>\n",
       "      <td>不喝酒</td>\n",
       "      <td>想</td>\n",
       "      <td>2000以下,4000-5000,7000-10000,15000-20000,30000-...</td>\n",
       "      <td>5000-10000</td>\n",
       "      <td>没有</td>\n",
       "      <td>汉族</td>\n",
       "      <td>其它</td>\n",
       "      <td>,与父母同住,需要时购置,已购房(无贷款),住单位房,住亲朋家</td>\n",
       "      <td>160~168厘米</td>\n",
       "    </tr>\n",
       "    <tr>\n",
       "      <th>3</th>\n",
       "      <td>50030782</td>\n",
       "      <td>42</td>\n",
       "      <td>江苏</td>\n",
       "      <td>0</td>\n",
       "      <td>本科</td>\n",
       "      <td>男</td>\n",
       "      <td>174</td>\n",
       "      <td>0</td>\n",
       "      <td>0</td>\n",
       "      <td>0</td>\n",
       "      <td>...</td>\n",
       "      <td>烟不离手</td>\n",
       "      <td>兴致时小酌</td>\n",
       "      <td>还没想好</td>\n",
       "      <td>2000以下,4000-5000,7000-10000,15000-20000,30000-...</td>\n",
       "      <td>5000-10000</td>\n",
       "      <td>没有</td>\n",
       "      <td>汉族</td>\n",
       "      <td>高级经营管理</td>\n",
       "      <td>,与父母同住,需要时购置,已购房(无贷款),住单位房,住亲朋家</td>\n",
       "      <td>162~169厘米</td>\n",
       "    </tr>\n",
       "    <tr>\n",
       "      <th>4</th>\n",
       "      <td>53824654</td>\n",
       "      <td>35</td>\n",
       "      <td>河北</td>\n",
       "      <td>2</td>\n",
       "      <td>本科</td>\n",
       "      <td>男</td>\n",
       "      <td>178</td>\n",
       "      <td>0</td>\n",
       "      <td>1</td>\n",
       "      <td>1</td>\n",
       "      <td>...</td>\n",
       "      <td>不吸烟，但不反感</td>\n",
       "      <td>不喝酒</td>\n",
       "      <td>想</td>\n",
       "      <td>2000以下,4000-5000,7000-10000,15000-20000,30000-...</td>\n",
       "      <td>2000-5000</td>\n",
       "      <td>没有</td>\n",
       "      <td>汉族</td>\n",
       "      <td>高级经营管理</td>\n",
       "      <td>,与父母同住,需要时购置,已购房(无贷款),住单位房,住亲朋家</td>\n",
       "      <td>164~172厘米</td>\n",
       "    </tr>\n",
       "  </tbody>\n",
       "</table>\n",
       "<p>5 rows × 33 columns</p>\n",
       "</div>"
      ],
      "text/plain": [
       "     userID  年龄 所在省  creditedNum  文凭 性别   身高  学历认证  身份认证  手机认证    ...      \\\n",
       "0  56013059  34  河南            1  本科  男  177     0     0     1    ...       \n",
       "1  50027250  48  江苏            1  本科  男  171     0     0     1    ...       \n",
       "2  55748374  34  河南            1  本科  男  170     0     0     1    ...       \n",
       "3  50030782  42  江苏            0  本科  男  174     0     0     0    ...       \n",
       "4  53824654  35  河北            2  本科  男  178     0     1     1    ...       \n",
       "\n",
       "       是否吸烟   是否喝酒 是否想要小孩                                            要求伴侣月收入  \\\n",
       "0  不吸烟，但不反感    不喝酒    NaN  2000以下,4000-5000,7000-10000,15000-20000,30000-...   \n",
       "1   社交时偶尔吸烟  兴致时小酌      想  2000以下,4000-5000,7000-10000,15000-20000,30000-...   \n",
       "2  不吸烟，但不反感    不喝酒      想  2000以下,4000-5000,7000-10000,15000-20000,30000-...   \n",
       "3      烟不离手  兴致时小酌   还没想好  2000以下,4000-5000,7000-10000,15000-20000,30000-...   \n",
       "4  不吸烟，但不反感    不喝酒      想  2000以下,4000-5000,7000-10000,15000-20000,30000-...   \n",
       "\n",
       "            月薪 有无子女  民族      职业                         要求伴侣购房情况     要求伴侣身高  \n",
       "0    2000-5000   没有  汉族      其它  ,与父母同住,需要时购置,已购房(无贷款),住单位房,住亲朋家  163~173厘米  \n",
       "1  10000-20000   没有  汉族  高级经营管理  ,与父母同住,需要时购置,已购房(无贷款),住单位房,住亲朋家  160~170厘米  \n",
       "2   5000-10000   没有  汉族      其它  ,与父母同住,需要时购置,已购房(无贷款),住单位房,住亲朋家  160~168厘米  \n",
       "3   5000-10000   没有  汉族  高级经营管理  ,与父母同住,需要时购置,已购房(无贷款),住单位房,住亲朋家  162~169厘米  \n",
       "4    2000-5000   没有  汉族  高级经营管理  ,与父母同住,需要时购置,已购房(无贷款),住单位房,住亲朋家  164~172厘米  \n",
       "\n",
       "[5 rows x 33 columns]"
      ]
     },
     "execution_count": 1,
     "metadata": {},
     "output_type": "execute_result"
    }
   ],
   "source": [
    "import pandas as pd\n",
    "import numpy as np\n",
    "\n",
    "data = pd.read_csv('user.csv')\n",
    "# 删除文本属性\n",
    "for col in ['所在地', '自我介绍', '标签', '昵称']:\n",
    "    data = data.drop(col, 1)\n",
    "        \n",
    "# 删除缺失值过多的属性\n",
    "for col in data.columns:\n",
    "    if sum(data[col].isnull())/data.shape[0] > 0.1:\n",
    "        data = data.drop(col, 1)\n",
    "data.head()"
   ]
  },
  {
   "cell_type": "code",
   "execution_count": 34,
   "metadata": {
    "collapsed": true
   },
   "outputs": [],
   "source": [
    "import pickle\n",
    "\n",
    "pairs = set()\n",
    "kongjian = pickle.load(open('kongjian.pkl','rb'))\n",
    "for value in kongjian.values():\n",
    "    if len(value) == 0:\n",
    "        continue\n",
    "    try:\n",
    "        user1 = value['user1']['uid']\n",
    "        user2 = value['user2']['uid']\n",
    "        if user1 == user2:\n",
    "            continue\n",
    "        pairs.add((min(user1,user2), max(user1,user2)))\n",
    "    except:\n",
    "        continue"
   ]
  },
  {
   "cell_type": "code",
   "execution_count": 35,
   "metadata": {
    "collapsed": true
   },
   "outputs": [],
   "source": [
    "user = pickle.load(open('man.pkl', 'rb'))\n",
    "user.update(pickle.load(open('woman.pkl', 'rb')))\n",
    "\n",
    "broke = set()\n",
    "together = set()\n",
    "in_love = ['已经结婚了', '正在恋爱中', '正在约会中']\n",
    "for user1,user2 in pairs:\n",
    "\n",
    "    if user1 in user and user2 in user:\n",
    "        if user[user1]['status'] in in_love and user[user2]['status'] in in_love:\n",
    "            together.add((user1,user2))\n",
    "        else:\n",
    "            broke.add((user1,user2))\n",
    "    else:\n",
    "        continue"
   ]
  },
  {
   "cell_type": "code",
   "execution_count": 36,
   "metadata": {},
   "outputs": [
    {
     "name": "stdout",
     "output_type": "stream",
     "text": [
      "总共616对情侣\n",
      "364(占比59.09%)对情侣还在一起\n",
      "252(占比40.91%)对情侣已经分手\n"
     ]
    }
   ],
   "source": [
    "total = len(together)+len(broke)\n",
    "print('总共%d对情侣'%total)\n",
    "print('%d(占比%4.2f%%)对情侣还在一起'%(len(together), len(together)/total*100))\n",
    "print('%d(占比%4.2f%%)对情侣已经分手'%(len(broke), len(broke)/total*100))"
   ]
  },
  {
   "cell_type": "code",
   "execution_count": 37,
   "metadata": {},
   "outputs": [],
   "source": [
    "man = dict()\n",
    "woman = dict()\n",
    "with open('user.csv', 'r', encoding='utf8') as f:\n",
    "    lines = f.readlines()\n",
    "    keys = lines[0][1:].strip().split(',')\n",
    "    for line in lines[1:]:\n",
    "        characters = line.strip().split(',')\n",
    "        if characters[6] == '男':\n",
    "            man[characters[0]] = ','.join(characters[1:])\n",
    "        else:\n",
    "            woman[characters[0]] = ','.join(characters[1:])\n",
    "            "
   ]
  },
  {
   "cell_type": "code",
   "execution_count": null,
   "metadata": {
    "collapsed": true
   },
   "outputs": [],
   "source": [
    "data = []\n",
    "for user1,user2 in together:\n",
    "    if user1 in man and user2 in woman:\n",
    "        data.append(man[user1]+woman[user2]+',1\\n')\n",
    "    elif user2 in man and user1 in woman:\n",
    "        data.append(man[user2]+woman[user1]+',1\\n')\n",
    "    else:\n",
    "        continue\n",
    "\n",
    "for user1,user2 in broke:\n",
    "    if user1 in man and user2 in woman:\n",
    "        data.append(man[user1]+woman[user2]+',0\\n')\n",
    "    elif user2 in man and user1 in woman:\n",
    "        data.append(man[user2]+woman[user1]+',0\\n')\n",
    "    else:\n",
    "        continue\n",
    "\n",
    "        \n",
    "import csv\n",
    "with open('data.csv', 'w', encoding='utf8', newline='') as f:\n",
    "    writer = csv.writer(f)\n",
    "    writer.writerow(['男_'+i for i in keys]+['女_'+i for i in keys]+['result'])\n",
    "    writer.writerows(data)"
   ]
  },
  {
   "cell_type": "code",
   "execution_count": 43,
   "metadata": {},
   "outputs": [],
   "source": [
    "import pandas as pd\n",
    "import numpy as np\n",
    "\n",
    "data = pd.read_csv('data.csv')\n",
    "data.head()"
   ]
  },
  {
   "cell_type": "code",
   "execution_count": null,
   "metadata": {
    "collapsed": true
   },
   "outputs": [],
   "source": [
    "data_id = ['userID']\n",
    "categorical = ['所在省', '文凭', '性别', '学历认证', '身份认证', '手机认证', '芝麻信用认证', '身份通认证', '照片', '本人婚姻状况', \n",
    "               '宗教信仰', '属相', '恋爱类型', '星座', '是否吸烟', '是否喝酒', '是否想要小孩', '有无子女', '民族', '职业', '月薪']\n",
    "numerical = ['年龄', 'creditedNum', '身高']\n",
    "\n",
    "cate_data = data[categorical]\n",
    "numerical_data = data[numerical]"
   ]
  },
  {
   "cell_type": "code",
   "execution_count": null,
   "metadata": {
    "collapsed": true
   },
   "outputs": [],
   "source": [
    "cate_data = cate_data.fillna('missing')\n",
    "cate_data = pd.get_dummies(cate_data)"
   ]
  },
  {
   "cell_type": "code",
   "execution_count": null,
   "metadata": {
    "collapsed": true
   },
   "outputs": [],
   "source": [
    "for col in numerical_data.columns:\n",
    "    numerical_data[col] = numerical_data[col].fillna(numerical_data[col].mean())\n",
    "x = pd.concat([cate_data, numerical_data], axis=1)\n",
    "x.head()"
   ]
  },
  {
   "cell_type": "markdown",
   "metadata": {},
   "source": [
    "### 训练模型"
   ]
  },
  {
   "cell_type": "code",
   "execution_count": null,
   "metadata": {
    "collapsed": true
   },
   "outputs": [],
   "source": [
    "import numpy as np\n",
    "import matplotlib.pyplot as plt\n",
    "\n",
    "# 使用交叉验证的方法，把数据集分为训练集合测试集\n",
    "from sklearn.model_selection import train_test_split\n",
    "\n",
    "from sklearn import datasets\n",
    "from sklearn.linear_model import LogisticRegression\n",
    "\n",
    "# 切分数据集\n",
    "def split_data(x, y):\n",
    "    # 将数据集拆分为训练集和测试集 \n",
    "    X_train, X_test, y_train, y_test = train_test_split(x, y, test_size=0.30, random_state=0)\n",
    "    return X_train, X_test, y_train, y_test\n",
    "\n",
    "# 使用LogisticRegression考察线性回归的预测能力\n",
    "def test_LogisticRegression(X_train, X_test, y_train, y_test):\n",
    "    # 选择模型\n",
    "    cls = LogisticRegression()\n",
    "\n",
    "    # 把数据交给模型训练\n",
    "    cls.fit(X_train, y_train)\n",
    "\n",
    "    print(\"Coefficients:%s, intercept %s\"%(cls.coef_,cls.intercept_))\n",
    "    print(\"Residual sum of squares: %.2f\"% np.mean((cls.predict(X_test) - y_test) ** 2))\n",
    "    print('Score: %.2f' % cls.score(X_test, y_test))\n",
    "\n",
    "if __name__=='__main__':\n",
    "    X_train,X_test,y_train,y_test = split_data(X) # 产生用于回归问题的数据集\n",
    "    test_LogisticRegression(X_train,X_test,y_train,y_test) # 调用 test_LinearRegression"
   ]
  },
  {
   "cell_type": "code",
   "execution_count": null,
   "metadata": {
    "collapsed": true
   },
   "outputs": [],
   "source": []
  }
 ],
 "metadata": {
  "kernelspec": {
   "display_name": "Python 3",
   "language": "python",
   "name": "python3"
  },
  "language_info": {
   "codemirror_mode": {
    "name": "ipython",
    "version": 3
   },
   "file_extension": ".py",
   "mimetype": "text/x-python",
   "name": "python",
   "nbconvert_exporter": "python",
   "pygments_lexer": "ipython3",
   "version": "3.6.1"
  }
 },
 "nbformat": 4,
 "nbformat_minor": 2
}
